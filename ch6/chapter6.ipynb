{
 "cells": [
  {
   "cell_type": "markdown",
   "source": [
    "# Chapter 6\n",
    "\n",
    "Chapter 6 covers topics including Dynamic Programming and Linear Programming techniques. These techniques are \"seldgehammers\" that are generally used when there isn't a more specialized/efficient process available."
   ],
   "metadata": {}
  },
  {
   "cell_type": "markdown",
   "source": [
    "Before jumping into the practice problems, I will implement the examples covered in the chapter. We'll start with the example covered in the longest increasing subsequences section (6.2)\n",
    "\n",
    "## Example 6.2: Longest increasing subsequence"
   ],
   "metadata": {}
  },
  {
   "cell_type": "code",
   "execution_count": 70,
   "source": [
    "def longest_increasing_subsequence(seq):\n",
    "    # Create lists to store the longest subsequence and prior indices at the\n",
    "    # current sequence index\n",
    "    lengths = len(seq) * [1]  # Each subsequence initially has length 1\n",
    "    priorj = len(seq) * [None]  # Only one value in each sub-sequence\n",
    "\n",
    "    for i in range(len(seq)):\n",
    "        for j in range(i):\n",
    "            # If a prior sub-sequence ends with a value less than the current value,\n",
    "            # and would increase the current sub-sequence, include it!\n",
    "            if seq[j] < seq[i] and lengths[i] < lengths[j] + 1:\n",
    "                lengths[i] = lengths[j] + 1\n",
    "                # Jot down the index of the subsequence that is used in this subprob\n",
    "                priorj[i] = j\n",
    "\n",
    "    # Now, let's get the index of the max length, and loop over\n",
    "    # all priors until the LIS is constructed\n",
    "    max_idx = lengths.index(max(lengths))\n",
    "\n",
    "    lis = []\n",
    "\n",
    "    while max_idx is not None:\n",
    "        lis.append(seq[max_idx])\n",
    "        max_idx = priorj[max_idx]\n",
    "    \n",
    "    lis.reverse()\n",
    "    \n",
    "    return lis\n",
    "\n",
    "# Per the textbook, this should return \"2, 3, 6, 9\", but note that \"2, 3, 6, 7\" is\n",
    "# also a valid option.\n",
    "longest_increasing_subsequence([5, 2, 8, 6, 3, 6, 9, 7])"
   ],
   "outputs": [
    {
     "output_type": "execute_result",
     "data": {
      "text/plain": [
       "[2, 3, 6, 9]"
      ]
     },
     "metadata": {},
     "execution_count": 70
    }
   ],
   "metadata": {}
  },
  {
   "cell_type": "markdown",
   "source": [
    "## Example 6.3: Edit distance\n",
    "\n",
    "In this problem, we estimate the \"cost\" between two words. The cost in this case is the number of letters in which a column of letters differ. Note that \"gaps\" can also be inserted into either word."
   ],
   "metadata": {}
  },
  {
   "cell_type": "code",
   "execution_count": 153,
   "source": [
    "from math import inf\n",
    "\n",
    "def edit_distance(A, B):\n",
    "\n",
    "    A = list(A)\n",
    "    B = list(B)\n",
    "\n",
    "    nrows = len(A) + 1\n",
    "    ncols = len(B) + 1\n",
    "\n",
    "    # Preallocate the costs array\n",
    "    E = [[None for j in range(ncols)] for i in range(nrows)]\n",
    "\n",
    "    for i in range(nrows):\n",
    "        E[i][0] = i\n",
    "\n",
    "    for j in range(ncols):\n",
    "        E[0][j] = j\n",
    "\n",
    "    for i in range(nrows - 1):\n",
    "        for j in range(ncols - 1):\n",
    "            # There are three possible scenarios, and we choose the one with least cost:\n",
    "            if A[i] == B[j]:\n",
    "                d = 0\n",
    "            else:\n",
    "                d = 1\n",
    "\n",
    "            E[i + 1][j + 1] = min([E[i][j + 1] + 1, E[i + 1][j] + 1, E[i][j] + d])\n",
    "    \n",
    "    # Now, let's move backwards through E and trace the shortest path...\n",
    "    coord = [i + 1, j + 1]\n",
    "    wordA = []\n",
    "    wordB = []\n",
    "\n",
    "    def get_cost(n_coord):\n",
    "        if n_coord[0] < 0 or n_coord[1] < 0:\n",
    "            return inf\n",
    "        else:\n",
    "            return E[n_coord[0]][n_coord[1]]\n",
    "\n",
    "    dirs = [(-1, -1), (-1, 0), (0, -1)]\n",
    "\n",
    "    while coord != (0, 0):\n",
    "        # Append last value to both arrays\n",
    "        wordA.append(A[coord[0] - 1])\n",
    "        wordB.append(B[coord[1] - 1])\n",
    "\n",
    "        # Which direction is best?\n",
    "        costs = [get_cost((coord[0] + dir[0], coord[1] + dir[1])) for dir in dirs]\n",
    "        best_dir = dirs[costs.index(min(costs))]\n",
    "        coord = (coord[0] + best_dir[0], coord[1] + best_dir[1])\n",
    "\n",
    "        if best_dir != (-1, -1):\n",
    "            if best_dir[0] == -1:\n",
    "                wordB[-1] = '_'\n",
    "            else:\n",
    "                wordA[-1] = '_'\n",
    "\n",
    "    wordA.reverse()\n",
    "    wordB.reverse()\n",
    "\n",
    "    cost = sum([0 if a == b else 1 for a, b in zip(wordA, wordB)])\n",
    "\n",
    "    # The first character will always be a blank (net 0 impact on cost)\n",
    "    return wordA, wordB, cost\n",
    "\n",
    "\n",
    "alignedA, alignedB, total_cost = edit_distance('exponential', 'polynomial')\n",
    "print(\"Alignment cost: \" + str(total_cost))\n",
    "print(alignedA)\n",
    "print(alignedB)"
   ],
   "outputs": [
    {
     "output_type": "stream",
     "name": "stdout",
     "text": [
      "Alignment cost: 6\n",
      "['e', 'x', 'p', 'o', 'n', 'e', 'n', '_', 't', 'i', 'a', 'l']\n",
      "['_', '_', 'p', 'o', 'l', 'y', 'n', 'o', 'm', 'i', 'a', 'l']\n"
     ]
    }
   ],
   "metadata": {}
  },
  {
   "cell_type": "code",
   "execution_count": null,
   "source": [],
   "outputs": [],
   "metadata": {}
  }
 ],
 "metadata": {
  "orig_nbformat": 4,
  "language_info": {
   "name": "python",
   "version": "3.8.10",
   "mimetype": "text/x-python",
   "codemirror_mode": {
    "name": "ipython",
    "version": 3
   },
   "pygments_lexer": "ipython3",
   "nbconvert_exporter": "python",
   "file_extension": ".py"
  },
  "kernelspec": {
   "name": "python3",
   "display_name": "Python 3.8.10 64-bit"
  },
  "interpreter": {
   "hash": "e7370f93d1d0cde622a1f8e1c04877d8463912d04d973331ad4851f04de6915a"
  }
 },
 "nbformat": 4,
 "nbformat_minor": 2
}